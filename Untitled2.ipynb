{
 "cells": [
  {
   "cell_type": "code",
   "execution_count": 1,
   "id": "executed-least",
   "metadata": {},
   "outputs": [],
   "source": [
    "import os\n",
    "\n",
    "os.environ['DJANGO_SETTINGS_MODULE']='askcompany.settings'\n",
    "os.environ['DJANGO_ALLOW_ASYNC_UNSAFE']=\"true\"\n",
    "\n",
    "import django\n",
    "django.setup()"
   ]
  },
  {
   "cell_type": "code",
   "execution_count": 2,
   "id": "alive-packet",
   "metadata": {},
   "outputs": [],
   "source": [
    "from instagram.models import Post"
   ]
  },
  {
   "cell_type": "code",
   "execution_count": 3,
   "id": "handmade-radical",
   "metadata": {},
   "outputs": [],
   "source": [
    "qs = Post.objects.all()"
   ]
  },
  {
   "cell_type": "code",
   "execution_count": 4,
   "id": "genetic-calibration",
   "metadata": {},
   "outputs": [
    {
     "data": {
      "text/plain": [
       "<QuerySet [<Post: jj>, <Post: 테스트>, <Post: aaa3>]>"
      ]
     },
     "execution_count": 4,
     "metadata": {},
     "output_type": "execute_result"
    }
   ],
   "source": [
    "qs"
   ]
  },
  {
   "cell_type": "code",
   "execution_count": 16,
   "id": "addressed-dryer",
   "metadata": {},
   "outputs": [],
   "source": [
    "qs = Post.objects.all().order_by('-id')[:2]"
   ]
  },
  {
   "cell_type": "code",
   "execution_count": 17,
   "id": "damaged-contamination",
   "metadata": {},
   "outputs": [
    {
     "data": {
      "text/plain": [
       "<QuerySet [<Post: aaa3>, <Post: 테스트>]>"
      ]
     },
     "execution_count": 17,
     "metadata": {},
     "output_type": "execute_result"
    }
   ],
   "source": [
    "qs"
   ]
  },
  {
   "cell_type": "code",
   "execution_count": 18,
   "id": "interpreted-intro",
   "metadata": {},
   "outputs": [
    {
     "name": "stdout",
     "output_type": "stream",
     "text": [
      "SELECT \"instagram_post\".\"id\", \"instagram_post\".\"message\", \"instagram_post\".\"created_at\", \"instagram_post\".\"updated_at\", \"instagram_post\".\"is_public\", \"instagram_post\".\"photo\" FROM \"instagram_post\" ORDER BY \"instagram_post\".\"id\" DESC LIMIT 2\n"
     ]
    }
   ],
   "source": [
    "print(qs.query)"
   ]
  },
  {
   "cell_type": "code",
   "execution_count": 26,
   "id": "latest-plant",
   "metadata": {},
   "outputs": [
    {
     "name": "stdout",
     "output_type": "stream",
     "text": [
      "aaa3 2021-02-06 13:58:04.274873+00:00\n",
      "{'_state': <django.db.models.base.ModelState object at 0x0000023EC4E98970>, 'id': 3, 'message': 'aaa3', 'created_at': datetime.datetime(2021, 2, 6, 13, 58, 4, 274873, tzinfo=<UTC>), 'updated_at': datetime.datetime(2021, 2, 6, 13, 58, 4, 274873, tzinfo=<UTC>), 'is_public': False, 'photo': ''}\n",
      "id:3\n",
      "테스트 2021-01-18 23:54:46.829214+00:00\n",
      "{'_state': <django.db.models.base.ModelState object at 0x0000023EC4E4CC70>, 'id': 2, 'message': '테스트', 'created_at': datetime.datetime(2021, 1, 18, 23, 54, 46, 829214, tzinfo=<UTC>), 'updated_at': datetime.datetime(2021, 1, 19, 1, 42, 48, 333483, tzinfo=<UTC>), 'is_public': True, 'photo': 'wifi.png'}\n",
      "id:2\n"
     ]
    }
   ],
   "source": [
    "for post in qs:\n",
    "    print(post.message, post.created_at)\n",
    "    print(post.__dict__)\n",
    "    print(\"id:{id}\".format(**post.__dict__))"
   ]
  },
  {
   "cell_type": "code",
   "execution_count": 61,
   "id": "perfect-verse",
   "metadata": {},
   "outputs": [],
   "source": [
    "qs = Post.objects.all().filter(message__icontains=\"\")"
   ]
  },
  {
   "cell_type": "code",
   "execution_count": 62,
   "id": "supported-account",
   "metadata": {},
   "outputs": [
    {
     "data": {
      "text/plain": [
       "<Post: jj>"
      ]
     },
     "execution_count": 62,
     "metadata": {},
     "output_type": "execute_result"
    }
   ],
   "source": [
    "qs[0]"
   ]
  },
  {
   "cell_type": "code",
   "execution_count": 66,
   "id": "religious-fountain",
   "metadata": {},
   "outputs": [
    {
     "data": {
      "text/plain": [
       "<Post: jj>"
      ]
     },
     "execution_count": 66,
     "metadata": {},
     "output_type": "execute_result"
    }
   ],
   "source": [
    "qs.first()\n"
   ]
  },
  {
   "cell_type": "code",
   "execution_count": 67,
   "id": "common-retrieval",
   "metadata": {},
   "outputs": [
    {
     "data": {
      "text/plain": [
       "<Post: aaa3>"
      ]
     },
     "execution_count": 67,
     "metadata": {},
     "output_type": "execute_result"
    }
   ],
   "source": [
    "qs.last()"
   ]
  },
  {
   "cell_type": "code",
   "execution_count": null,
   "id": "compliant-banking",
   "metadata": {},
   "outputs": [],
   "source": []
  }
 ],
 "metadata": {
  "kernelspec": {
   "display_name": "Django Shell-Plus",
   "language": "python",
   "name": "django_extensions"
  },
  "language_info": {
   "codemirror_mode": {
    "name": "ipython",
    "version": 3
   },
   "file_extension": ".py",
   "mimetype": "text/x-python",
   "name": "python",
   "nbconvert_exporter": "python",
   "pygments_lexer": "ipython3",
   "version": "3.8.5"
  }
 },
 "nbformat": 4,
 "nbformat_minor": 5
}
