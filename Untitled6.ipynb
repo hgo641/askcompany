{
 "cells": [
  {
   "cell_type": "code",
   "execution_count": 1,
   "id": "engaged-garage",
   "metadata": {},
   "outputs": [],
   "source": [
    "import os\n",
    "os.environ['DJANGO_SETTINGS_MODULE'] = 'askcompany.settings'\n",
    "os.environ['DJANGO_ALLOW_ASYNC_UNSAFE'] = 'true'\n",
    "\n",
    "import django\n",
    "django.setup()\n"
   ]
  },
  {
   "cell_type": "code",
   "execution_count": 2,
   "id": "killing-spectacular",
   "metadata": {},
   "outputs": [],
   "source": [
    "from instagram.models import *"
   ]
  },
  {
   "cell_type": "code",
   "execution_count": 3,
   "id": "fitting-belly",
   "metadata": {},
   "outputs": [
    {
     "ename": "NameError",
     "evalue": "name 'comment' is not defined",
     "output_type": "error",
     "traceback": [
      "\u001b[1;31m-------------------------------------------------\u001b[0m",
      "\u001b[1;31mNameError\u001b[0m       Traceback (most recent call last)",
      "\u001b[1;32m<ipython-input-3-86daf2412312>\u001b[0m in \u001b[0;36m<module>\u001b[1;34m\u001b[0m\n\u001b[1;32m----> 1\u001b[1;33m \u001b[0mcomment\u001b[0m\u001b[1;33m.\u001b[0m\u001b[0mpost\u001b[0m\u001b[1;33m\u001b[0m\u001b[1;33m\u001b[0m\u001b[0m\n\u001b[0m",
      "\u001b[1;31mNameError\u001b[0m: name 'comment' is not defined"
     ]
    }
   ],
   "source": [
    "comment.post"
   ]
  },
  {
   "cell_type": "code",
   "execution_count": 4,
   "id": "straight-background",
   "metadata": {},
   "outputs": [
    {
     "data": {
      "text/plain": [
       "<Post: 3m>"
      ]
     },
     "execution_count": 4,
     "metadata": {},
     "output_type": "execute_result"
    }
   ],
   "source": [
    "post = Post.objects.first()\n",
    "post"
   ]
  },
  {
   "cell_type": "code",
   "execution_count": 7,
   "id": "trying-infection",
   "metadata": {},
   "outputs": [
    {
     "data": {
      "text/plain": [
       "<QuerySet [<Comment: Comment object (2)>, <Comment: Comment object (3)>]>"
      ]
     },
     "execution_count": 7,
     "metadata": {},
     "output_type": "execute_result"
    }
   ],
   "source": [
    "Comment.objects.filter(post_id=2)"
   ]
  },
  {
   "cell_type": "code",
   "execution_count": 8,
   "id": "julian-discrimination",
   "metadata": {},
   "outputs": [
    {
     "data": {
      "text/plain": [
       "<QuerySet [<Comment: Comment object (2)>, <Comment: Comment object (3)>]>"
      ]
     },
     "execution_count": 8,
     "metadata": {},
     "output_type": "execute_result"
    }
   ],
   "source": [
    "Comment.objects.filter(post__id=2)"
   ]
  },
  {
   "cell_type": "code",
   "execution_count": 9,
   "id": "sized-basin",
   "metadata": {},
   "outputs": [
    {
     "data": {
      "text/plain": [
       "<QuerySet [<Comment: Comment object (4)>]>"
      ]
     },
     "execution_count": 9,
     "metadata": {},
     "output_type": "execute_result"
    }
   ],
   "source": [
    "Comment.objects.filter(post=post)"
   ]
  },
  {
   "cell_type": "code",
   "execution_count": 10,
   "id": "tight-roller",
   "metadata": {},
   "outputs": [
    {
     "data": {
      "text/plain": [
       "<QuerySet [<Comment: Comment object (4)>]>"
      ]
     },
     "execution_count": 10,
     "metadata": {},
     "output_type": "execute_result"
    }
   ],
   "source": [
    "post.comment_set.all()"
   ]
  },
  {
   "cell_type": "code",
   "execution_count": null,
   "id": "victorian-technique",
   "metadata": {},
   "outputs": [],
   "source": []
  }
 ],
 "metadata": {
  "kernelspec": {
   "display_name": "Python 3",
   "language": "python",
   "name": "python3"
  },
  "language_info": {
   "codemirror_mode": {
    "name": "ipython",
    "version": 3
   },
   "file_extension": ".py",
   "mimetype": "text/x-python",
   "name": "python",
   "nbconvert_exporter": "python",
   "pygments_lexer": "ipython3",
   "version": "3.8.5"
  }
 },
 "nbformat": 4,
 "nbformat_minor": 5
}
