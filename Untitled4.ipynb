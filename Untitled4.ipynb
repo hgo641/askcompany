{
 "cells": [
  {
   "cell_type": "code",
   "execution_count": 1,
   "id": "featured-bottle",
   "metadata": {},
   "outputs": [],
   "source": [
    "import os\n",
    "os.environ['DJANGO_SETTINGS_MODULE']= 'askcompany.settings'\n",
    "os.environ['DJANGO_ALLOW_ASYNC_UNSAFE']= \"true\"\n",
    "import django\n",
    "django.setup()\n"
   ]
  },
  {
   "cell_type": "code",
   "execution_count": 3,
   "id": "united-member",
   "metadata": {},
   "outputs": [],
   "source": [
    "from instagram.models import Post"
   ]
  },
  {
   "cell_type": "code",
   "execution_count": 4,
   "id": "regional-sally",
   "metadata": {},
   "outputs": [
    {
     "name": "stdout",
     "output_type": "stream",
     "text": [
      "<QuerySet [<Post: jj>, <Post: 테스트>, <Post: aaa3>]>\n"
     ]
    }
   ],
   "source": [
    "qs = Post.objects.all()\n",
    "print(qs)"
   ]
  },
  {
   "cell_type": "code",
   "execution_count": 5,
   "id": "stylish-lottery",
   "metadata": {},
   "outputs": [
    {
     "data": {
      "text/plain": [
       "<QuerySet [<Post: jj>, <Post: 테스트>, <Post: aaa3>]>"
      ]
     },
     "execution_count": 5,
     "metadata": {},
     "output_type": "execute_result"
    }
   ],
   "source": [
    "qs"
   ]
  },
  {
   "cell_type": "code",
   "execution_count": null,
   "id": "dependent-compound",
   "metadata": {},
   "outputs": [],
   "source": []
  }
 ],
 "metadata": {
  "kernelspec": {
   "display_name": "Python 3",
   "language": "python",
   "name": "python3"
  },
  "language_info": {
   "codemirror_mode": {
    "name": "ipython",
    "version": 3
   },
   "file_extension": ".py",
   "mimetype": "text/x-python",
   "name": "python",
   "nbconvert_exporter": "python",
   "pygments_lexer": "ipython3",
   "version": "3.8.5"
  }
 },
 "nbformat": 4,
 "nbformat_minor": 5
}
